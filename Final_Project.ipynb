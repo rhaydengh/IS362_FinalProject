{
 "cells": [
  {
   "cell_type": "markdown",
   "metadata": {},
   "source": [
    "## Final Project Proposal\n",
    "For security reasons, the IT department of XYZ Company is responsible for generating and reviewing user information from of over 30 different standalone applications. Managers need to periodically review user access to ensure that only required personnel have active accounts at any given time. The applications have varied methods of generating a user list, and some are incapable of providing any list at all. For these applications, the only way to get the data would be to use a screenshot copied into a word or pdf file, or to manually type the information into a spreadsheet. For applications with up to 50 users, this can be quite tedious. \n",
    "\n",
    "My program will pull the user data from both a .pdf file and an access database, to represent the different output formats. The data will then be converted or parsed, into a common format (.csv). This will allow for automatic forwarding of the data to managers for reviews. I will create the 2 source files, modeled after a typical application user list.\n",
    "### Pull data from a pdf file and convert into a dataframe"
   ]
  },
  {
   "cell_type": "code",
   "execution_count": 56,
   "metadata": {},
   "outputs": [
    {
     "data": {
      "text/html": [
       "<div>\n",
       "<style>\n",
       "    .dataframe thead tr:only-child th {\n",
       "        text-align: right;\n",
       "    }\n",
       "\n",
       "    .dataframe thead th {\n",
       "        text-align: left;\n",
       "    }\n",
       "\n",
       "    .dataframe tbody tr th {\n",
       "        vertical-align: top;\n",
       "    }\n",
       "</style>\n",
       "<table border=\"1\" class=\"dataframe\">\n",
       "  <thead>\n",
       "    <tr style=\"text-align: right;\">\n",
       "      <th></th>\n",
       "      <th>LastName</th>\n",
       "      <th>FirstName</th>\n",
       "      <th>Username</th>\n",
       "      <th>AccessType</th>\n",
       "    </tr>\n",
       "  </thead>\n",
       "  <tbody>\n",
       "    <tr>\n",
       "      <th>0</th>\n",
       "      <td>Locke</td>\n",
       "      <td>Jen</td>\n",
       "      <td>Jlocke</td>\n",
       "      <td>User</td>\n",
       "    </tr>\n",
       "    <tr>\n",
       "      <th>1</th>\n",
       "      <td>Doe</td>\n",
       "      <td>Jane</td>\n",
       "      <td>Jdoe12</td>\n",
       "      <td>Administrator</td>\n",
       "    </tr>\n",
       "    <tr>\n",
       "      <th>2</th>\n",
       "      <td>Smith</td>\n",
       "      <td>Joe</td>\n",
       "      <td>Jsmith</td>\n",
       "      <td>User</td>\n",
       "    </tr>\n",
       "    <tr>\n",
       "      <th>3</th>\n",
       "      <td>Hathaway</td>\n",
       "      <td>Ken</td>\n",
       "      <td>khatha</td>\n",
       "      <td>Technician</td>\n",
       "    </tr>\n",
       "    <tr>\n",
       "      <th>4</th>\n",
       "      <td>Cronk</td>\n",
       "      <td>Bill</td>\n",
       "      <td>bcronk</td>\n",
       "      <td>User</td>\n",
       "    </tr>\n",
       "  </tbody>\n",
       "</table>\n",
       "</div>"
      ],
      "text/plain": [
       "   LastName FirstName Username     AccessType\n",
       "0     Locke       Jen   Jlocke           User\n",
       "1       Doe      Jane   Jdoe12  Administrator\n",
       "2     Smith       Joe   Jsmith           User\n",
       "3  Hathaway       Ken   khatha     Technician\n",
       "4     Cronk      Bill   bcronk           User"
      ]
     },
     "execution_count": 56,
     "metadata": {},
     "output_type": "execute_result"
    }
   ],
   "source": [
    "from tabula import wrapper\n",
    "pdfdata = wrapper.read_pdf('userlist.pdf')\n",
    "pdfdata.head()"
   ]
  },
  {
   "cell_type": "markdown",
   "metadata": {},
   "source": [
    "### Convert the dataframe into a .csv file. Present data from the .csv file."
   ]
  },
  {
   "cell_type": "code",
   "execution_count": 57,
   "metadata": {},
   "outputs": [
    {
     "name": "stdout",
     "output_type": "stream",
     "text": [
      "Users By Access Type \n",
      "    LastName FirstName Username     AccessType\n",
      "1       Doe      Jane   Jdoe12  Administrator\n",
      "8    Clarke    Andrea  aclarke  Administrator\n",
      "3  Hathaway       Ken   khatha     Technician\n",
      "7   Winston     Jamie   jwinst     Technician\n",
      "9  Jekowski    Cheryl   cjekow     Technician\n"
     ]
    }
   ],
   "source": [
    "#Convert the dataframe to a .csv and read in the data\n",
    "pdfdata.to_csv('pdfUserList.csv')\n",
    "pdffile = pd.read_csv('pdfUserList.csv')\n",
    "\n",
    "#Drop the added index (column 1) and print data from the .csv file\n",
    "pdffile.drop(pdffile.columns[0], axis=1, inplace=True)\n",
    "print('Users By Access Type', '\\n', pdffile.sort_values('AccessType').head())"
   ]
  },
  {
   "cell_type": "markdown",
   "metadata": {},
   "source": [
    "### Pull data from a Microsoft Access database and convert to a dataframe"
   ]
  },
  {
   "cell_type": "code",
   "execution_count": 58,
   "metadata": {},
   "outputs": [
    {
     "data": {
      "text/html": [
       "<div>\n",
       "<style>\n",
       "    .dataframe thead tr:only-child th {\n",
       "        text-align: right;\n",
       "    }\n",
       "\n",
       "    .dataframe thead th {\n",
       "        text-align: left;\n",
       "    }\n",
       "\n",
       "    .dataframe tbody tr th {\n",
       "        vertical-align: top;\n",
       "    }\n",
       "</style>\n",
       "<table border=\"1\" class=\"dataframe\">\n",
       "  <thead>\n",
       "    <tr style=\"text-align: right;\">\n",
       "      <th></th>\n",
       "      <th>Username</th>\n",
       "      <th>FirstName</th>\n",
       "      <th>LastName</th>\n",
       "      <th>FullName</th>\n",
       "      <th>AccessLevel</th>\n",
       "    </tr>\n",
       "  </thead>\n",
       "  <tbody>\n",
       "    <tr>\n",
       "      <th>0</th>\n",
       "      <td>adamsp</td>\n",
       "      <td>&lt;div&gt;Pamela&lt;/div&gt;</td>\n",
       "      <td>&lt;div&gt;Adams&lt;/div&gt;</td>\n",
       "      <td>&lt;div&gt;Pamela Adams&lt;/div&gt;</td>\n",
       "      <td>Normal</td>\n",
       "    </tr>\n",
       "    <tr>\n",
       "      <th>1</th>\n",
       "      <td>allenc6</td>\n",
       "      <td>&lt;div&gt;Corinne&lt;/div&gt;</td>\n",
       "      <td>&lt;div&gt;Allen&lt;/div&gt;</td>\n",
       "      <td>&lt;div&gt;Corinne Allen&lt;/div&gt;</td>\n",
       "      <td>Normal</td>\n",
       "    </tr>\n",
       "    <tr>\n",
       "      <th>2</th>\n",
       "      <td>andersk</td>\n",
       "      <td>&lt;div&gt;Kristen&lt;/div&gt;</td>\n",
       "      <td>&lt;div&gt;Anderson&lt;/div&gt;</td>\n",
       "      <td>&lt;div&gt;Kristen Anderson&lt;/div&gt;</td>\n",
       "      <td>Normal</td>\n",
       "    </tr>\n",
       "    <tr>\n",
       "      <th>3</th>\n",
       "      <td>bells14</td>\n",
       "      <td>&lt;div&gt;Sabrina&lt;/div&gt;</td>\n",
       "      <td>&lt;div&gt;Bell&lt;/div&gt;</td>\n",
       "      <td>&lt;div&gt;Sabrina Bell&lt;/div&gt;</td>\n",
       "      <td>Advanced</td>\n",
       "    </tr>\n",
       "    <tr>\n",
       "      <th>4</th>\n",
       "      <td>brownm</td>\n",
       "      <td>&lt;div&gt;Mike&lt;/div&gt;</td>\n",
       "      <td>&lt;div&gt;Brown&lt;/div&gt;</td>\n",
       "      <td>&lt;div&gt;Mike Brown&lt;/div&gt;</td>\n",
       "      <td>Advanced</td>\n",
       "    </tr>\n",
       "  </tbody>\n",
       "</table>\n",
       "</div>"
      ],
      "text/plain": [
       "  Username           FirstName             LastName  \\\n",
       "0   adamsp   <div>Pamela</div>     <div>Adams</div>   \n",
       "1  allenc6  <div>Corinne</div>     <div>Allen</div>   \n",
       "2  andersk  <div>Kristen</div>  <div>Anderson</div>   \n",
       "3  bells14  <div>Sabrina</div>      <div>Bell</div>   \n",
       "4   brownm     <div>Mike</div>     <div>Brown</div>   \n",
       "\n",
       "                      FullName AccessLevel  \n",
       "0      <div>Pamela Adams</div>      Normal  \n",
       "1     <div>Corinne Allen</div>      Normal  \n",
       "2  <div>Kristen Anderson</div>      Normal  \n",
       "3      <div>Sabrina Bell</div>    Advanced  \n",
       "4        <div>Mike Brown</div>    Advanced  "
      ]
     },
     "execution_count": 58,
     "metadata": {},
     "output_type": "execute_result"
    }
   ],
   "source": [
    "#import modules\n",
    "import pandas as pd\n",
    "import pyodbc\n",
    "\n",
    "#connect to the database\n",
    "connStr = pyodbc.connect(\n",
    "    r\"DRIVER={Microsoft Access Driver (*.mdb, *.accdb)};\"\n",
    "    r\"DBQ=C:\\Users\\Becky\\Final Project\\UserListTestDB.accdb;\"\n",
    "    )\n",
    "\n",
    "#select all from UserList table, convert to a dataframe\n",
    "query = \"SELECT * FROM UserList\"\n",
    "msadata = pd.read_sql(query, connStr)\n",
    "connStr.close()\n",
    "msadata.head()\n"
   ]
  },
  {
   "cell_type": "markdown",
   "metadata": {},
   "source": [
    "### Convert the dataframe to a .csv file. Present data from the .csv file."
   ]
  },
  {
   "cell_type": "code",
   "execution_count": 59,
   "metadata": {},
   "outputs": [
    {
     "name": "stdout",
     "output_type": "stream",
     "text": [
      "Users By Name \n",
      "    Username             FirstName           LastName  \\\n",
      "13  morganj  <div>Johnathon</div>  <div>Morgan</div>   \n",
      "12  millerj   <div>Jennifer</div>  <div>Miller</div>   \n",
      "18  taylorj     <div>Justin</div>  <div>Taylor</div>   \n",
      "3   bells14    <div>Sabrina</div>    <div>Bell</div>   \n",
      "4    brownm       <div>Mike</div>   <div>Brown</div>   \n",
      "\n",
      "                       FullName    AccessLevel  \n",
      "13  <div>Johnathon Morgan</div>  Administrator  \n",
      "12   <div>Jennifer Miller</div>  Administrator  \n",
      "18     <div>Justin Taylor</div>       Advanced  \n",
      "3       <div>Sabrina Bell</div>       Advanced  \n",
      "4         <div>Mike Brown</div>       Advanced  \n"
     ]
    }
   ],
   "source": [
    "#Convert the dataframe to a .csv and read in the data\n",
    "msadata.to_csv('MSAUserList.csv')\n",
    "msafile = pd.read_csv('MSAUserList.csv')\n",
    "\n",
    "#Drop the added index (column 1) and print data from the .csv file\n",
    "msafile.drop(msafile.columns[0], axis=1, inplace=True)\n",
    "print('Users By Name', '\\n', msafile.sort_values('AccessLevel').head())"
   ]
  },
  {
   "cell_type": "markdown",
   "metadata": {},
   "source": [
    "### Conclusion\n",
    "To complete this project, I had to learn how to pull data from .pdf files as well as Microsoft Access databases. Neither of these concepts had been covered in class. This took some research and plenty of trial and error. One of the major challenges I encountered was reading the Microsoft Access Database via Python. At first I was encountering \"database not found\" and \"default driver not specified errors\". After some research, I found that you must ensure that your Python  Interpreter (Jupyter/Anaconda) must be running the same bit version as your Office program, in order for the pyodbc module to work. They both need to be either 32-bit or 64-bit.\n",
    "\n",
    "On my system I found that my Anaconda installation was 64-bit and my Office installation was 32-bit. So I had to uninstall my entire Microsoft Office suite (and every other Microsoft Office product), and reinstall the 64-bit version of Office. I then found that I also needed to install the \"Microsoft Access database engine 2010\" separately. This is available as a standalone download from Microsoft.\n",
    "\n",
    "Tabula is also something you must install via pip, in order to use it for processing .pdf files.\n",
    "\n",
    "This was definitely a learning experience! In the end, I was able to convert both files into something useful, that will help me to automate the process of user account review even further. This is something that has real value in the workplace for user security. There are so many different software packages out there. My program will save a lot of time in converting the data into a common format. From what we covered in class, I can also add text files and excel files to this program, which will cover just about every format that I have encountered so far!"
   ]
  }
 ],
 "metadata": {
  "kernelspec": {
   "display_name": "Python 3",
   "language": "python",
   "name": "python3"
  },
  "language_info": {
   "codemirror_mode": {
    "name": "ipython",
    "version": 3
   },
   "file_extension": ".py",
   "mimetype": "text/x-python",
   "name": "python",
   "nbconvert_exporter": "python",
   "pygments_lexer": "ipython3",
   "version": "3.6.3"
  }
 },
 "nbformat": 4,
 "nbformat_minor": 2
}
